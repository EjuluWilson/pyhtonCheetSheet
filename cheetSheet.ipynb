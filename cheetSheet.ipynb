{
 "cells": [
  {
   "cell_type": "markdown",
   "metadata": {},
   "source": [
    "Notebook based on: [Geeks for Geeks Tutorial](https://www.geeksforgeeks.org/python-cheat-sheet/#what-is-python)"
   ]
  },
  {
   "cell_type": "markdown",
   "metadata": {},
   "source": [
    "#### Basics"
   ]
  },
  {
   "cell_type": "code",
   "execution_count": 43,
   "metadata": {},
   "outputs": [
    {
     "name": "stdout",
     "output_type": "stream",
     "text": [
      "hello world\n"
     ]
    }
   ],
   "source": [
    "# End with space and not \\n\n",
    "print(\"hello\",end=\" \")\n",
    "print(\"world\")"
   ]
  },
  {
   "cell_type": "code",
   "execution_count": 17,
   "metadata": {},
   "outputs": [
    {
     "name": "stdout",
     "output_type": "stream",
     "text": [
      "Hello_World\n"
     ]
    }
   ],
   "source": [
    "#change default separator \"default is space\"\n",
    "print(\"Hello\", \"World\", sep=\"_\")"
   ]
  },
  {
   "cell_type": "code",
   "execution_count": 34,
   "metadata": {},
   "outputs": [],
   "source": [
    "# #input\n",
    "# user_input = input(\"Enter your value: \")\n",
    "# print(user_input)"
   ]
  },
  {
   "cell_type": "code",
   "execution_count": 41,
   "metadata": {},
   "outputs": [
    {
     "name": "stdout",
     "output_type": "stream",
     "text": [
      "64\n",
      "False\n",
      "True\n"
     ]
    }
   ],
   "source": [
    "# operators and comparators\n",
    "print(8**2, 9<8, sep=\"\\n\") #use new line as operator\n",
    "print(8>7)"
   ]
  },
  {
   "cell_type": "code",
   "execution_count": 44,
   "metadata": {},
   "outputs": [
    {
     "name": "stdout",
     "output_type": "stream",
     "text": [
      "False\n",
      "True\n",
      "True\n"
     ]
    }
   ],
   "source": [
    "# Logcal operators\n",
    "x = True\n",
    "y = False\n",
    "\n",
    "print(x and y)\n",
    "print(x or y)\n",
    "print(not y)"
   ]
  },
  {
   "cell_type": "code",
   "execution_count": 65,
   "metadata": {},
   "outputs": [
    {
     "name": "stdout",
     "output_type": "stream",
     "text": [
      "7 BW and 0 => 0\n",
      "7 BW or 0 => 111\n",
      "7 left shift by 3=> 1000\n",
      "7 BW XOR 0 => 111\n",
      "7 rigt shift by 2 => 0\n",
      "7 BW not => b1000\n"
     ]
    }
   ],
   "source": [
    "#bitwise (BW)\n",
    "print(\"7 BW and 0 =>\",bin(x & y)[2:]) #print in binary\n",
    "x = 7 # 0111\n",
    "y = 0 # 0000\n",
    "\n",
    "print(\"7 BW or 0 =>\", bin(x | y)[2:]) #print in binary\n",
    "print(\"7 left shift by 3=>\", bin(x<<3)[4:]) #intoduces zeroes\n",
    "print(\"7 BW XOR 0 =>\", bin(x ^ y)[2:]) #print in binary\n",
    "\n",
    "print(\"7 rigt shift by 2 =>\", bin(x>>3)[2:])\n",
    "\n",
    "print(\"7 BW not =>\", bin(~x)[2:])\n"
   ]
  },
  {
   "cell_type": "markdown",
   "metadata": {},
   "source": [
    "#### Data types"
   ]
  },
  {
   "cell_type": "code",
   "execution_count": 9,
   "metadata": {},
   "outputs": [],
   "source": [
    "# DataType Output: str \"unicode by default\"\n",
    "x = \"Hello World\"\n",
    "\n",
    "# DataType Output: int\n",
    "x = 50\n",
    "\n",
    "# DataType Output: float\n",
    "x = 60.5\n",
    "\n",
    "# DataType Output: bool\n",
    "x = True\n",
    "\n",
    "# DataType Output: complex\n",
    "x = 3j\n",
    "\n",
    "# DataType Output: NoneType\n",
    "x = None\n",
    "\n",
    "# DataType Output: tuple\n",
    "x = (\"geeks\", \"for\", \"geeks\") # You can access elements by an index because the order is maintained\n",
    "\n",
    "# DataType Output: set\n",
    "x = {\"geeks\", \"for\", \"geeks\"} # You cannot access elements by an index because the order is not maintained\n",
    "\n",
    "\"\"\"\n",
    "\t•\tUse a tuple when you need an ordered(accessible by index) collection and the data should not change.\n",
    "\t•\tUse a set when you need a unique collection of elements and the order does not matter.\n",
    "\"\"\"\n",
    "\n",
    "# DataType Output: range\n",
    "x = range(1, 10, 2)  #rang(start, stop, end)\n",
    "\n",
    "'''\n",
    "use  cases:\n",
    "\t• list(range(10,2,-1)) or set , etc\n",
    "    • for i in range(10, 0, -2):\n",
    "\n",
    "Summary:\n",
    "\t•\trange(stop): Generates numbers from 0 to stop - 1.\n",
    "\t•\trange(start, stop): Generates numbers from start to stop - 1.\n",
    "\t•\trange(start, stop, step): Generates numbers from start to stop - 1, incrementing by step.\n",
    "'''\n",
    "\n",
    "# DataType Output: dict\n",
    "x = {\"name\": \"Suraj\", \"age\": 24}\n",
    "\n",
    "# DataType Output: frozenset \n",
    "x = frozenset({\"geeks\", \"for\", \"geeks\"})\n",
    "\n",
    "# DataType Output: bytes\n",
    "x = b\"Geeks\"\n",
    "\n",
    "# DataType Output: bytearray\n",
    "x = bytearray(4)\n",
    "\n",
    "# DataType Output: memoryview\n",
    "x = memoryview(bytes(6))"
   ]
  },
  {
   "cell_type": "code",
   "execution_count": 10,
   "metadata": {},
   "outputs": [
    {
     "name": "stdout",
     "output_type": "stream",
     "text": [
      "b'Geeks'\n",
      "71\n"
     ]
    }
   ],
   "source": [
    "\"\"\"\n",
    "    For bytes, pthon will store each character as an\n",
    "\"\"\"\n",
    "x = b\"Geeks\"\n",
    "print(x)  # Output: b'Geeks'\n",
    "print(x[0])  # Output: 71 (ASCII value of 'G')"
   ]
  },
  {
   "cell_type": "code",
   "execution_count": 11,
   "metadata": {},
   "outputs": [
    {
     "name": "stdout",
     "output_type": "stream",
     "text": [
      "False is falsy\n",
      "None is falsy\n",
      "0 is falsy\n",
      "0.0 is falsy\n",
      "0j is falsy\n",
      "'' is falsy\n",
      "[] is falsy\n",
      "() is falsy\n",
      "set() is falsy\n",
      "{} is falsy\n",
      "range(0, 0) is falsy\n"
     ]
    }
   ],
   "source": [
    "# Falsy values in python (evaluate to False)\n",
    "values = [False, None, 0, 0.0, 0j, \"\", [], (), set(), {}, range(0)]\n",
    "\n",
    "for value in values:\n",
    "    if not value:\n",
    "        print(f\"{repr(value)} is falsy\")"
   ]
  },
  {
   "cell_type": "markdown",
   "metadata": {},
   "source": [
    "##### Unicode and Byte Types in Python\n",
    "\n",
    "Unicode Strings (str)\n",
    "\n",
    "\t•\tPurpose: Represents text data.\n",
    "\t•\tEncoding: Uses Unicode to support a wide range of characters from various languages.\n",
    "\t•\tImmutability: Immutable, meaning the contents cannot be changed once created.\n",
    "\t•\tUsage: Ideal for handling human-readable text."
   ]
  },
  {
   "cell_type": "markdown",
   "metadata": {},
   "source": [
    "Byte Strings (bytes)\n",
    "\n",
    "\t•\tPurpose: Represents binary data.\n",
    "\t•\tEncoding: Each element is a byte (8 bits), an integer between 0 and 255.\n",
    "\t•\tImmutability: Immutable.\n",
    "\t•\tUsage: Ideal for handling raw binary data such as files, network data, and encoded text."
   ]
  },
  {
   "cell_type": "markdown",
   "metadata": {},
   "source": [
    "###### Unicode example"
   ]
  },
  {
   "cell_type": "code",
   "execution_count": 12,
   "metadata": {},
   "outputs": [
    {
     "name": "stdout",
     "output_type": "stream",
     "text": [
      "H\n",
      "[72, 101, 108, 108, 111, 44, 32, 19990, 30028]\n"
     ]
    }
   ],
   "source": [
    "\n",
    "# Defining a Unicode string\n",
    "unicode_str = \"Hello, 世界\"\n",
    "\n",
    "# Accessing characters\n",
    "print(unicode_str[0])  # Output: H\n",
    "\n",
    "# Unicode code points\n",
    "unicode_points = [ord(char) for char in unicode_str]\n",
    "print(unicode_points)  # Output: [72, 101, 108, 108, 111, 44, 32, 19990, 30028]"
   ]
  },
  {
   "cell_type": "markdown",
   "metadata": {},
   "source": [
    "###### Byte example"
   ]
  },
  {
   "cell_type": "code",
   "execution_count": 13,
   "metadata": {},
   "outputs": [
    {
     "name": "stdout",
     "output_type": "stream",
     "text": [
      "72\n",
      "['48', '65', '6c', '6c', '6f']\n"
     ]
    }
   ],
   "source": [
    "# Defining a bytes object\n",
    "byte_str = b\"Hello\"\n",
    "\n",
    "# Accessing bytes\n",
    "print(byte_str[0])  # Output: 72 (ASCII value of 'H')\n",
    "\n",
    "# Byte values in hexadecimal\n",
    "hex_values = [f\"{byte:02x}\" for byte in byte_str]\n",
    "print(hex_values)  # Output: ['48', '65', '6c', '6c', '6f']"
   ]
  },
  {
   "cell_type": "markdown",
   "metadata": {},
   "source": [
    "#### List comprehension"
   ]
  },
  {
   "cell_type": "code",
   "execution_count": 15,
   "metadata": {},
   "outputs": [
    {
     "data": {
      "text/plain": [
       "[0, 1, 8, 27, 64, 125, 216, 343, 512, 729]"
      ]
     },
     "execution_count": 15,
     "metadata": {},
     "output_type": "execute_result"
    }
   ],
   "source": [
    "[i**3 for i in range(10)]"
   ]
  },
  {
   "cell_type": "code",
   "execution_count": 16,
   "metadata": {},
   "outputs": [
    {
     "data": {
      "text/plain": [
       "[3, 6, 8]"
      ]
     },
     "execution_count": 16,
     "metadata": {},
     "output_type": "execute_result"
    }
   ],
   "source": [
    "l = (3,6,8)\n",
    "[i for i in l]"
   ]
  },
  {
   "cell_type": "markdown",
   "metadata": {},
   "source": [
    "#### Dictionaries"
   ]
  },
  {
   "cell_type": "code",
   "execution_count": 27,
   "metadata": {},
   "outputs": [
    {
     "data": {
      "text/plain": [
       "dict_items([(1, 'Geeks'), (2, 'For'), (3, 'Geeks')])"
      ]
     },
     "execution_count": 27,
     "metadata": {},
     "output_type": "execute_result"
    }
   ],
   "source": [
    "Dict = {1: 'Geeks', 2: 'For', 3: 'Geeks'}\n",
    "Dict.items() ## for accessing both keys and values"
   ]
  },
  {
   "cell_type": "code",
   "execution_count": null,
   "metadata": {},
   "outputs": [
    {
     "name": "stdout",
     "output_type": "stream",
     "text": [
      "1 : Geeks\n",
      "2 : For\n",
      "3 : Geeks\n"
     ]
    }
   ],
   "source": [
    "for k,v in Dict.items():\n",
    "    print(f\"{k} : {v}\")"
   ]
  },
  {
   "cell_type": "markdown",
   "metadata": {},
   "source": [
    "#### zip function in pyhton\n",
    "- The zip function pairs elements from multiple iterables (e.g., lists) together.\n",
    "- In Python, a zip object is an iterator, which means it can be iterated over only once. If you try to use it again after exhausting it, it won’t produce any more values."
   ]
  },
  {
   "cell_type": "code",
   "execution_count": 36,
   "metadata": {},
   "outputs": [
    {
     "name": "stdout",
     "output_type": "stream",
     "text": [
      "<zip object at 0x12164cb80>\n",
      "[(1, 'a'), (2, 'b'), (3, 'c')]\n"
     ]
    }
   ],
   "source": [
    "list1 = [1, 2, 3]\n",
    "list2 = ['a', 'b', 'c']\n",
    "zipped = zip(list1, list2)\n",
    "print(zipped)\n",
    "print(list(zipped))\n",
    "\n"
   ]
  },
  {
   "cell_type": "code",
   "execution_count": 38,
   "metadata": {},
   "outputs": [],
   "source": [
    "# no output expected, the aboject has already been exhuasted\n",
    "for (k,v) in zipped:\n",
    "    print(f\"{k} : {v}\")"
   ]
  },
  {
   "cell_type": "code",
   "execution_count": 40,
   "metadata": {},
   "outputs": [
    {
     "name": "stdout",
     "output_type": "stream",
     "text": [
      "1 : a\n",
      "2 : b\n",
      "3 : c\n"
     ]
    }
   ],
   "source": [
    "# output expected; new zipped object\n",
    "for k,v in zip(list1,list2):\n",
    "    print(f\"{k} : {v}\")"
   ]
  },
  {
   "cell_type": "code",
   "execution_count": 47,
   "metadata": {},
   "outputs": [
    {
     "name": "stdout",
     "output_type": "stream",
     "text": [
      "['wilson Ejulu', 'Silver Emokol', 'Paul Omute', 'Emma Omoding']\n",
      "{'wilson': 'Ejulu', 'Silver': 'Emokol', 'Paul': 'Omute', 'Emma': 'Omoding'}\n"
     ]
    }
   ],
   "source": [
    "#one applications\n",
    "\n",
    "fname = [\"wilson\", \"Silver\", \"Paul\", \"Emma\"]\n",
    "lname = [\"Ejulu\", \"Emokol\", \"Omute\", \"Omoding\"]\n",
    "\n",
    "print([f\"{k} {v}\" for k,v in zip(fname,lname)])\n",
    "print({k:v for k,v in zip(fname,lname)}) # dictionary comprehension"
   ]
  },
  {
   "cell_type": "markdown",
   "metadata": {},
   "source": [
    "#### String slicing"
   ]
  },
  {
   "cell_type": "code",
   "execution_count": 55,
   "metadata": {},
   "outputs": [
    {
     "name": "stdout",
     "output_type": "stream",
     "text": [
      "i\n",
      "Ejulu\n",
      "Wi\n",
      "Wils\n"
     ]
    }
   ],
   "source": [
    "name = \"Ejulu Wilson\"\n",
    "print(name[7])\n",
    "print(name[:5]) # 5 exclusive\n",
    "print(name[6:8])\n",
    "print(name[6:-2])"
   ]
  },
  {
   "cell_type": "markdown",
   "metadata": {},
   "source": [
    "#### *args and **kwargs\n",
    "- Allow functions to take variable-length parameters\n",
    "- The names can be anything but; most important is `*` and `**`. The names args (arguements) and kwargs(key word args) are just the convention\n",
    "- For functions taking in both, `*args` must appear before `**kwargs`\n",
    "- `*args`: collects the positional arguments into a tuple.\n",
    "- `**kwargs` : collects the keyword into a dictionary."
   ]
  },
  {
   "cell_type": "code",
   "execution_count": 75,
   "metadata": {},
   "outputs": [
    {
     "name": "stdout",
     "output_type": "stream",
     "text": [
      "Ejulu Wilson Emox \n",
      "Address:\n",
      "Location: Makerere\n",
      "Dept: YAD\n",
      "Set: 17\n"
     ]
    }
   ],
   "source": [
    "def scjDetails(*args, **kwargs):\n",
    "    for name in args:\n",
    "        print(name, end=\" \")\n",
    "    print(\"\\nAddress:\")\n",
    "    for k,v in kwargs.items():\n",
    "        print(f\"{k}: {v}\")\n",
    "\n",
    "scjDetails(\"Ejulu\", \"Wilson\", \"Emox\", Location=\"Makerere\", Dept=\"YAD\", Set=\"17\")"
   ]
  },
  {
   "cell_type": "markdown",
   "metadata": {},
   "source": [
    "#### MAP, FILTER, REDUCE"
   ]
  },
  {
   "cell_type": "code",
   "execution_count": 93,
   "metadata": {},
   "outputs": [],
   "source": [
    "l1 = [1,3,4,5,6,6]"
   ]
  },
  {
   "cell_type": "markdown",
   "metadata": {},
   "source": [
    "##### `map(mappingFunction, objectToMap)`\n",
    "- The map function applies a given function to all items in an input list (or any iterable) and returns a map object (an iterator)."
   ]
  },
  {
   "cell_type": "code",
   "execution_count": 94,
   "metadata": {},
   "outputs": [
    {
     "name": "stdout",
     "output_type": "stream",
     "text": [
      "<class 'map'>\n",
      "<map object at 0x120989b10>\n",
      "[2, 6, 8, 10, 12, 12]\n"
     ]
    }
   ],
   "source": [
    "# example with lambda\n",
    "mappedL1 = map(lambda num : num*2,l1)\n",
    "print(type(mappedL1))\n",
    "print(mappedL1)\n",
    "print(list(mappedL1))"
   ]
  },
  {
   "cell_type": "code",
   "execution_count": 95,
   "metadata": {},
   "outputs": [
    {
     "name": "stdout",
     "output_type": "stream",
     "text": [
      "{1, 36, 9, 16, 25}\n",
      "[1, 9, 16, 25, 36, 36]\n"
     ]
    }
   ],
   "source": [
    "# example with external function\n",
    "def power2(num):\n",
    "    return num*num\n",
    "print(set(map(power2,l1)))\n",
    "print(list(map(power2,l1)))"
   ]
  },
  {
   "cell_type": "markdown",
   "metadata": {},
   "source": [
    "##### `filter(function, iterable)`\n",
    "- The filter function constructs an iterator from elements of an iterable for which a function returns true."
   ]
  },
  {
   "cell_type": "code",
   "execution_count": 98,
   "metadata": {},
   "outputs": [
    {
     "name": "stdout",
     "output_type": "stream",
     "text": [
      "[1, 9, 16, 25, 36, 36]\n"
     ]
    },
    {
     "data": {
      "text/plain": [
       "[25, 36, 36]"
      ]
     },
     "execution_count": 98,
     "metadata": {},
     "output_type": "execute_result"
    }
   ],
   "source": [
    "l2 = list(map(power2,l1))\n",
    "print(l2)\n",
    "\n",
    "list(filter(lambda x: x>20 ,l2 ))"
   ]
  },
  {
   "cell_type": "markdown",
   "metadata": {},
   "source": [
    "##### `reduce(function, iterable)`\n",
    "- The reduce function applies a given function cumulatively to the items of a sequence, from left to right, so as to reduce the sequence to a single value. reduce is in the functools module.\n",
    "- `from functools import reduce`"
   ]
  },
  {
   "cell_type": "code",
   "execution_count": 128,
   "metadata": {},
   "outputs": [
    {
     "name": "stdout",
     "output_type": "stream",
     "text": [
      "15\n"
     ]
    }
   ],
   "source": [
    "from functools import reduce\n",
    "\n",
    "l3 = [1,2,3,4,5]\n",
    "\n",
    "result = reduce(lambda x,y: x+y,l3)\n",
    "\t# •\tx is the accumulated value (starting with the first element).\n",
    "\t# •\ty is the next element in the iterable.\n",
    "print(result)  # 15"
   ]
  },
  {
   "cell_type": "markdown",
   "metadata": {},
   "source": [
    "#### File handling\n",
    "\n",
    "- Resource Leaks: The operating system limits the number of files that can be opened simultaneously. Failing to close files can lead to resource leaks, eventually preventing new files from being opened.\n",
    "- Data Loss: Data written to a file may be buffered and not immediately written to disk. If a file is not closed, some data may remain in the buffer and not be saved properly, resulting in data loss.\n",
    "- File Corruption: Especially in write operations, not closing a file properly can lead to incomplete writes and potentially corrupt the file.\n",
    "- File Locks: Some systems lock files while they are open. Not closing a file can prevent other programs from accessing or modifying it, leading to conflicts.\n",
    "\n",
    "**File opening mode summaty**\n",
    "- 'r': Opens the file for reading; file must exist.\n",
    "- 'w': Opens the file for writing; creates or truncates the file.\n",
    "- 'a': Opens the file for appending; creates the file if it doesn’t exist.\n",
    "- 'r+': Opens the file for reading and writing; file must exist.\n",
    "- 'w+': Opens the file for reading and writing; creates or truncates the file.\n",
    "- 'a+': Opens the file for appending and reading; creates the file if it doesn’t exist.\n",
    "- 'rb': Opens the file for reading in binary mode; file must exist.\n",
    "- 'wb': Opens the file for writing in binary mode; creates or truncates the file.\n",
    "- 'ab': Opens the file for appending in binary mode; creates the file if it doesn’t exist."
   ]
  },
  {
   "cell_type": "code",
   "execution_count": 129,
   "metadata": {},
   "outputs": [
    {
     "name": "stdout",
     "output_type": "stream",
     "text": [
      "Line 1 content\n",
      "Line 2 content \n",
      "Line 3 content\n",
      "Line 4 content \n"
     ]
    }
   ],
   "source": [
    "# directly using open\n",
    "f = open(\"./text1.txt\",\"rt\") #rt(r-read, t-text) is default, same as open(\"./text1.txt\",\"rt\")\n",
    "contents = f.read()\n",
    "print(contents)\n",
    "f.close()"
   ]
  },
  {
   "cell_type": "markdown",
   "metadata": {},
   "source": []
  },
  {
   "cell_type": "code",
   "execution_count": 136,
   "metadata": {},
   "outputs": [
    {
     "name": "stdout",
     "output_type": "stream",
     "text": [
      "Line 1 content\n",
      "\n"
     ]
    }
   ],
   "source": [
    "# using with. No need to close\n",
    "with open(\"./text1.txt\") as file:\n",
    "    contents = file.readline()\n",
    "    print(contents)"
   ]
  },
  {
   "cell_type": "code",
   "execution_count": 151,
   "metadata": {},
   "outputs": [
    {
     "name": "stdout",
     "output_type": "stream",
     "text": [
      "2 : 2\n"
     ]
    }
   ],
   "source": [
    "# appending\n",
    "lineCount = 0\n",
    "\n",
    "with open(\"./text1.txt\") as f:\n",
    "    lineCount =  len(f.readlines())\n",
    "print(lineCount,\":\", lineCount)\n",
    "\n",
    "with open(\"./text1.txt\",\"a\") as f:\n",
    "    f.write(\"\\n\")\n",
    "    for i in range(lineCount+1,20,1):\n",
    "        f.write(f\"Line {i} content\\n\")"
   ]
  },
  {
   "cell_type": "code",
   "execution_count": 157,
   "metadata": {},
   "outputs": [
    {
     "name": "stdout",
     "output_type": "stream",
     "text": [
      "File not found\n",
      "Finally is optional in the try except block\n"
     ]
    }
   ],
   "source": [
    "#deleting file\n",
    "import os\n",
    "try:\n",
    "    os.remove(\"demofile.txt\")\n",
    "except FileNotFoundError:\n",
    "    print(\"File not found\")\n",
    "finally:\n",
    "    print(\"Finally is optional in the try except block\")"
   ]
  },
  {
   "cell_type": "code",
   "execution_count": null,
   "metadata": {},
   "outputs": [],
   "source": []
  }
 ],
 "metadata": {
  "kernelspec": {
   "display_name": "Python 3",
   "language": "python",
   "name": "python3"
  },
  "language_info": {
   "codemirror_mode": {
    "name": "ipython",
    "version": 3
   },
   "file_extension": ".py",
   "mimetype": "text/x-python",
   "name": "python",
   "nbconvert_exporter": "python",
   "pygments_lexer": "ipython3",
   "version": "3.12.4"
  }
 },
 "nbformat": 4,
 "nbformat_minor": 2
}
