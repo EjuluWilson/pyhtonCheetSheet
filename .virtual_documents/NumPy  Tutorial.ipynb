





import numpy as np

#creating a NumPy array
a = np.array([1,2,3])#notice, we put like a python list inside
#a is a Numpy array instance
a



%time
a[-1]


#2x3 array
array1 = np.array([[1,2,3],[4,5,6]])
array1 #output the array


np.shape(array1) #state the shape of the array


#or
array1.shape


#change data
array2 = np.array([[1,2,3],[4,5,6]], dtype=np.float)
array2


array2.itemsize


array3 = np.ones((3,2)) #like matlab, dont forget the double brackets
array3


#the arange function
#automatically generate an array of a specified range
array4 = np.arange(4)
array4


#performing operations on characters
#use "np.char."
array5 = ["will","emox","ejulu"]
array6 = ["junior", "eliza","emma"]
array7 = np.char.add(array5,array6)
array7


array8 = np.char.center("hello", 40, fillchar = ".")
print(array8)


y = np.char.upper("wilson")
print(y)
