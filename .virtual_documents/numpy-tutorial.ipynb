














import numpy as np





np.array([1,2,3,4])


# We can specify the type of data inside the array:
np.array([1,2,3,4],dtype=np.float32)





np.array([1,2,3.0,4])





a = np.array([[1,2,3,4],[5,6,7,8]])
a





np.zeros(5)


np.zeros((3,4))





np.ones(5,dtype=np.int32)





# random 
np.random.rand(2,3)


# An array of the choice
np.full((2,3),5)





np.arange(10).reshape(2,5)





np.linspace(0,1,11)





np.eye(3)





np.eye(3,k=1)





np.eye(3,k=-1)





a = np.array([[5,10,15],[20,25,20]])
print('Array:','\n',a)
print('Dimension of the array:','\n',a.ndim)


a = np.arange(6).reshape(2,3)
print('Array:','\n',a)
print('Shape of the array:','\n',a.shape)
print('Number of rows = ',a.shape[0])
print('Number of columns = ',a.shape[1])
print('Size of array :',a.size)
print('Manual determination of size of array :',a.shape[0]*a.shape[1])








# reshape
a = np.array([3,6,9,12])
np.reshape(a,(2,2))


a = np.array([3,6,9,12,18,24])
print('Three rows :','\n',np.reshape(a,(3,-1)))
print('Three columns :','\n',np.reshape(a,(-1,3)))





a = np.ones((2,2))
b = a.flatten()
c = a.ravel()
print('Original shape :', a.shape)
print('Array :','\n', a)
print('Shape after flatten :',b.shape)
print('Array :','\n', b)
print('Shape after ravel :',c.shape)
print('Array :','\n', c)





b[0] = 0
print(a)





c[0] = 0
print(a)














data = np.array([1,2])
ones = np.ones(2, dtype=int)


#Addition
add = data+ones
print('Addition of two array','\n',add)





#Subtraction:
sub = data - ones
print('Subraction of two array:','\n',sub)

#Multiplication:
multi = data*data
print('Multiplication of two array','\n',multi)

#Division:
div = data/data
print('Division by a constant','\n',div)








a = np.arange(5,15,2)
print('Mean :',np.mean(a))
print('Standard deviation :',np.std(a))
print('Median :',np.median(a))





a = np.array([[1,6], [4,3]])
# minimum along a column
print('Min :',np.min(a,axis=0))
# maximum along a row
print('Max :',np.max(a,axis=1))


a = np.array([[1,6,5],
[4,3,7]])
# minimum along a column
print('Min :',np.argmin(a,axis=0))
# maximum along a row
print('Max :',np.argmax(a,axis=1))





a = np.array([1,4,2,5,3,6,8,7,9])
print('Sorted array:','\n',np.sort(a, kind='quicksort'))

b = np.array([[5,6,7,4],
              [9,2,3,7]])# sort along the column
print('Sort along column :','\n',np.sort(b, kind='mergresort',axis=1))
# sort along the row
print('Sort along row :','\n',np.sort(b, kind='mergresort',axis=0))








a = np.array([1,2,3,4,5,6])
print(a[1:5])





print(a[:6:2])
print(a[1::2])
print(a[1:6:])











a = np.array([[1,2,3],[4,5,6]])
# print first row values
print('First row values :','\n',a[0:1,:])
# with step-size for columns
print('Alternate values from first row:','\n',a[0:1,::2])
# 
print('Second column values :','\n',a[:,1::2])
print('Arbitrary values :','\n',a[0:1,1:3])








a = np.array([[[1,2],[3,4],[5,6]],# first axis array
    [[7,8],[9,10],[11,12]],# second axis array
    [[13,14],[15,16],[17,18]]])# third axis array
# 3-D array
print(a)


print('First array, first row, first column value :','\n',a[0,0,0])
print('First array last column :','\n',a[0,:,1])
print('First two rows for second and third arrays :','\n',a[1:,0:2,0:2])





print('Printing as a single array :','\n',a[1:,0:2,0:2].flatten())





import numpy as np
import matplotlib.pyplot as plt
from scipy import misc
import cv2

# read image
img = cv2.imread('../input/dog-images/dog.jpg')
img


plt.imshow(img)
print(img.shape)


# flip
plt.imshow(np.flip(img, axis=1))


img_array = img / 255
img_array.max(), img_array.min()


img_array.dtype


img_gray = img_array @ [0.2126, 0.7152, 0.0722]


img_gray.shape


plt.imshow(img_gray,  cmap="gray")








!pip install jupyterlab-git


!pip install jupyterlab-git


!jupyter labextension install @jupyterlab/git



