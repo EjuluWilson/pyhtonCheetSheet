


import pandas as pd
import numpy as np


#check mdule
print(pd.__version__)






#Creating a series from a list

list1 = [3,4,5,6,7,8]
s1 = pd.Series(list1) #creates a series from a list
s1 #no need for print statement i jupyter



#specify the index
list2 = ['a','b','c','e','f','g']
s2 = pd.Series(list1, index=list2)
s2


#creating a Series using a NumPy arrray
index = ['a','b','c','d','e']
import numpy as np
array1 = np.random.randn(5) #generate a 1D numpy array with 5 elements
series1 = pd.Series(array1, index = index)
series1
array1


#creating a Series from a python dictionary
dict1 = {'a':1,'b':10,'c':9,'d':20,'e':7}

series2 = pd.Series(dict1)
series2


#series slicing
series3 = series2[:2]
series3 


#Series operations
a = pd.Series([1,2,3,4,5,6,7])
b = pd.Series([7,8,9,0,3,4,5])


#addition
c = a+b
c


# or
c = a.add(b)





#max(),min(),median(),average() e.t.c

#maximum example
y = max(c)
print(y)






#our  index/row headings
rows = pd.date_range('today',periods = 6) #pandas function to generate a date list
#our column headings
columns = ['A','B','C','D']
#Generating random  cell data using NumPy
cell_data = np.random.randn(6,4) # 6 rows by 4 columns

#Creating the DataFrame
df1 = pd.DataFrame(cell_data,columns = columns, index = rows)
df1





#DataFrame from pyhton Dictionary

data = {'animal':['cat','cat',np.NaN,'dog','dog','rat'],
        'age':[2.4,5.7,5.0,4,3,2.3],
       'visits':[2,4,2,1,7,5],
       'priority':['yes','yes','no','yes','no',np.NaN]}
row_headers = ['a','b','c','d','e','f']
df2 = pd.DataFrame(data,index = row_headers)
df2


df2[0:2]


#check datatypes
df2.dtypes


df2.head(2) # first two rows


df2.tail(3) #last 3 rows





df2.index


df2.columns


df2.values


#Transposing the DataFrame
df2.T


df2


#describing data
#gives a descriotion for each numerical column
df2.describe()


#sorting
df2.sort_values('visits',inplace = True)


df2


df2.sort_values("age",ascending=False)


#Daframe slicing(selecting rows), equivalent to df.iloc
df2[4:3]


#Quering columns
#Notice that the index takes in a list
df2[['age','visits']]


#indexing an address
#loc is for loction
df2.loc['c','age'] = 8
df2


#Check for nullValues
df2[df2["animal"].isnull()]





#Changing the column datatype
#Use a dictionry(can perform multiple)
df2 = df2.astype({"age":'int'})


df2=df2.dropna()


df2


#all sums
df2.sum()


df2["ageVisit"] = df2.apply(lambda x : x.age * x.visits, axis=1)


df2





#Dataframe Series sum
df2['age'].sum()


df2.visits.mean()





#Fist we introduce a null type
string = pd.Series(['a','c','d',np.nan,'f','g',np.nan])
string.str.upper() #convert to upper case





data = {'animal':['cat','cat','snake','dog','dog','rat'],
        'age':[2.4,np.nan,5.0,4,3,np.nan],
       'visits':[2,4,2,1,7,5],
       'priority':['yes','yes','no','yes','no','no']}
row_headers = ['a','b','c','d','e','f']
df4 = pd.DataFrame(data,index = row_headers)
df4


#Filling NA values
#First find the mean of the other age values
df5 =df4.copy()
meanAge = df5.age.mean()
print(meanAge)
df5.age = df5.age.fillna(meanAge)
df5


#drop missing data
df6 =df4.copy()
df6.dropna(how = 'any' ) # any implies any row with missing data





df7 = df5.copy()


# Saving df to cd as csv file
df7.to_csv('anilmal.csv')


# Saving df to specified directory as csv file
# r before the path eliminates the need for escaping each'\'. 
df7.to_csv(r'E:\DATA SCIENCE\pandas\anilmal.csv')



# Saving to an excel sheet as '.xlsx'
#df7.to_excel(r'E:\DATA SCIENCE\pandas\anilmal1.xlsx', sheet_name = 'Sheet1')


#df7.to_excel(r'E:\DATA SCIENCE\pandas\anilmal.xlsx',
            #'Sheet1', index_col = None, na_values=['NA'])


#Loading a csv file to a DataFrame
df8 = pd.read_csv('anilmal.csv')  #for file in the working directory
df8








# Example
df = pd.DataFrame({'Animal': ['Falcon', 'Falcon',
                              'Parrot', 'Parrot'],
                 'Max Speed': [380., 370., 24., 26.]})
df


df.groupby(['Animal']).aggregate(['mean','max','min','sum','prod'])


# agg() helps combine functions provided in a list
df.groupby(['Animal']).agg(['mean','max'])





df8 = df.copy()
for key, subdf in df8.groupby('Animal'):
    print("key->",key)#printa the groupby key
    print("\nsub_dataframe\n",subdf)#prints the subdataframe








#As a serie method
#The apply method will apply a function to each element of the series
df3 = df2.copy()
df3


#lets create a new column containing the length of the animal strings
#we shall deploy the python method using the pandas apply method

df3['animal_string_length'] = df3['animal'].apply(len)
df3


# Apply to to a DataFrame
# Applies a function on either axis of a DataFrame








#timestamp default format "year,month,day,min,sec"
x = pd.to_datetime("11/06/2019 12:08" ) #converts string to deafult timestamp
x 


type(x)


#if you use data that starts with the dayfirst(european format), pass the dayfirst flag
x = pd.to_datetime("22/06/2019 12:08",dayfirst = True ) #converts european format
x 


#get date
y = pd.Timestamp.date(x)
y


type(u)


#get time
u = pd.Timestamp.time(x)
u


type(u)


#Three lines to make our compiler able to draw:
%matplotlib inline
import matplotlib.pyplot as plt
import numpy as np

ypoints = np.array([3, 8, 1, 10])
xpoints = np.array([3, 8, 1, 10])
plt.plot(xpoints,ypoints, c = 'g', ls = ":", lw=5, marker="o")
plt.show()


y1 = np.array([3, 8, 1, 10])
y2 = np.array([6, 2, 7, 11])

font1 = {'family':'serif','color':'blue','size':20}
font2 = {'family':'serif','color':'darkred','size':15}

plt.plot(y1)
plt.plot(y2)

plt.title("Ejulu Wilson", fontdict= font1, loc = "right")
plt.xlabel("Ejulu", fontdict= font2)
plt.ylabel("Wilson", fontdict= font2)
plt.grid(c="g", ls="--", axis="x", lw=2)

plt.show()


import matplotlib.pyplot as plt
import numpy as np

# Create some data
x = np.linspace(0, 10, 100)
y1 = np.sin(x)
y2 = np.cos(x)

# Create a figure
plt.figure(figsize=(10, 5))

# First subplot
plt.subplot(1, 2, 1)  # 1 row, 2 columns, 1st subplot
plt.plot(x, y1, 'b-',alpha=0.5)
plt.title('Sine')

# Second subplot
plt.subplot(1, 2, 2)  # 1 row, 2 columns, 2nd subplot
plt.plot(x, y2, 'r-3')
plt.title('Cosine')

# Show the figure
plt.tight_layout()
plt.show()


import matplotlib.pyplot as plt
import numpy as np

x = np.array([5,7,8,7,2,17,2,9,4,11,12,9,6])
y = np.array([99,86,87,88,111,86,103,87,94,78,77,85,86])
colors = np.array([0, 10, 20, 30, 40, 45, 50, 55, 60, 70, 80, 90, 100])

plt.scatter(x, y, c=colors, cmap='viridis')

plt.show()


import matplotlib.pyplot as plt
import numpy as np

x = np.array(["A", "B", "C", "D"])
y = np.array([3, 8, 1, 10])

plt.barh(x, y, color="green",alpha = 1, height = 0.1)
plt.show()


import matplotlib.pyplot as plt
import numpy as np

x = np.array(["A", "B", "C", "D"])
y = np.array([3, 8, 1, 10])

plt.bar(x, y, width = 0.5)
plt.show()


np.random.normal(170, 10, 250)



